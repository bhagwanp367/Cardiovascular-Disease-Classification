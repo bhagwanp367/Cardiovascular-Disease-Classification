{
  "nbformat": 4,
  "nbformat_minor": 0,
  "metadata": {
    "colab": {
      "name": "Cardiovascular Disease classification.ipynb",
      "private_outputs": true,
      "provenance": [],
      "collapsed_sections": [],
      "mount_file_id": "1YWT4x3BcS-OkmXKRULhOXFE-r5Ud0Vj-",
      "authorship_tag": "ABX9TyNIq50ZDrIdfoKj48NLCwG8",
      "include_colab_link": true
    },
    "kernelspec": {
      "name": "python3",
      "display_name": "Python 3"
    },
    "accelerator": "GPU"
  },
  "cells": [
    {
      "cell_type": "markdown",
      "metadata": {
        "id": "view-in-github",
        "colab_type": "text"
      },
      "source": [
        "<a href=\"https://colab.research.google.com/github/bhagwanp367/Cardiovascular-Disease-Classification/blob/main/Cardiovascular_Disease_classification.ipynb\" target=\"_parent\"><img src=\"https://colab.research.google.com/assets/colab-badge.svg\" alt=\"Open In Colab\"/></a>"
      ]
    },
    {
      "cell_type": "code",
      "metadata": {
        "id": "R9rPbJGDlWuz"
      },
      "source": [
        "import pandas as pd\n",
        "import numpy as np\n",
        "import matplotlib.pyplot as plt\n",
        "import seaborn as sns\n",
        "import warnings\n",
        "warnings.filterwarnings(\"ignore\")"
      ],
      "execution_count": null,
      "outputs": []
    },
    {
      "cell_type": "code",
      "metadata": {
        "id": "DDQNJafynBWQ"
      },
      "source": [
        "data = pd.read_csv('/content/drive/MyDrive/Cardio Vascular Disease Classification/cardio_train.csv')"
      ],
      "execution_count": null,
      "outputs": []
    },
    {
      "cell_type": "code",
      "metadata": {
        "id": "JWm0DRwWnto9"
      },
      "source": [
        "data.head()"
      ],
      "execution_count": null,
      "outputs": []
    },
    {
      "cell_type": "code",
      "metadata": {
        "id": "EBljkFAolijk"
      },
      "source": [
        "data.isnull().sum()"
      ],
      "execution_count": null,
      "outputs": []
    },
    {
      "cell_type": "code",
      "metadata": {
        "id": "YjBrMEQCbPfj"
      },
      "source": [
        "data['Age_new']=data['age']/365"
      ],
      "execution_count": null,
      "outputs": []
    },
    {
      "cell_type": "code",
      "metadata": {
        "id": "UQksGbSnbg9l"
      },
      "source": [
        "data.drop(['id','age'],axis=1,inplace=True)"
      ],
      "execution_count": null,
      "outputs": []
    },
    {
      "cell_type": "code",
      "metadata": {
        "id": "hc8BSdcDaEpU"
      },
      "source": [
        "Gender=pd.get_dummies(data['gender'],drop_first=True)\n",
        "Gender"
      ],
      "execution_count": null,
      "outputs": []
    },
    {
      "cell_type": "code",
      "metadata": {
        "id": "6y51vfcYcTTq"
      },
      "source": [
        "Gender=pd.get_dummies(data['gender'],drop_first=True)\n",
        "Cholesterol=pd.get_dummies(data['cholesterol'],drop_first=True,columns=True)\n",
        "Glucose=pd.get_dummies(data['gluc'],drop_first=True)\n",
        "Smoke=pd.get_dummies(data['smoke'],drop_first=True)\n",
        "Alcohol=pd.get_dummies(data['alco'],drop_first=True)\n",
        "Acitive=pd.get_dummies(data['active'],drop_first=True)"
      ],
      "execution_count": null,
      "outputs": []
    },
    {
      "cell_type": "code",
      "metadata": {
        "id": "u83ksff8dXEa"
      },
      "source": [
        "data.drop(['gender','cholesterol','gluc','smoke','alco','active'],axis=1,inplace=True)"
      ],
      "execution_count": null,
      "outputs": []
    },
    {
      "cell_type": "code",
      "metadata": {
        "id": "WUzETu_Oeof0"
      },
      "source": [
        "data1 = pd.concat([data,Gender,Cholesterol,Glucose,Smoke,Alcohol,Acitive],axis=1)"
      ],
      "execution_count": null,
      "outputs": []
    },
    {
      "cell_type": "code",
      "metadata": {
        "id": "MFiwlIi9fIym"
      },
      "source": [
        "data1.head()"
      ],
      "execution_count": null,
      "outputs": []
    },
    {
      "cell_type": "code",
      "metadata": {
        "id": "AF5WknEiaVG0"
      },
      "source": [
        "X=data1.drop(['cardio'],axis=1)\n",
        "y=data1['cardio']"
      ],
      "execution_count": null,
      "outputs": []
    },
    {
      "cell_type": "code",
      "metadata": {
        "id": "WMDwJ83haxrO"
      },
      "source": [
        "y.value_counts()"
      ],
      "execution_count": null,
      "outputs": []
    },
    {
      "cell_type": "code",
      "metadata": {
        "id": "Jb1HLl1ZlX3q"
      },
      "source": [
        "from sklearn.model_selection import train_test_split"
      ],
      "execution_count": null,
      "outputs": []
    },
    {
      "cell_type": "code",
      "metadata": {
        "id": "JfSEB1dFlrk6"
      },
      "source": [
        "X_train, X_test, y_train, y_test = train_test_split(X,y, test_size=0.2)"
      ],
      "execution_count": null,
      "outputs": []
    },
    {
      "cell_type": "markdown",
      "metadata": {
        "id": "WNUAm6Gap9ma"
      },
      "source": [
        "### Logistic Regression"
      ]
    },
    {
      "cell_type": "code",
      "metadata": {
        "id": "Meq1O3HumKRS"
      },
      "source": [
        "from sklearn.linear_model import LogisticRegression"
      ],
      "execution_count": null,
      "outputs": []
    },
    {
      "cell_type": "code",
      "metadata": {
        "id": "XZ-X2fvhm7Fm"
      },
      "source": [
        "model1 = LogisticRegression()"
      ],
      "execution_count": null,
      "outputs": []
    },
    {
      "cell_type": "code",
      "metadata": {
        "id": "r8x7L8FengSn"
      },
      "source": [
        "model1.fit(X_train,y_train)"
      ],
      "execution_count": null,
      "outputs": []
    },
    {
      "cell_type": "code",
      "metadata": {
        "id": "w5SxCPDInmlA"
      },
      "source": [
        "y_pred=model1.predict(X_test)"
      ],
      "execution_count": null,
      "outputs": []
    },
    {
      "cell_type": "code",
      "metadata": {
        "id": "7C4gB4M5nzjd"
      },
      "source": [
        "from sklearn.metrics import accuracy_score,precision_recall_fscore_support,confusion_matrix"
      ],
      "execution_count": null,
      "outputs": []
    },
    {
      "cell_type": "code",
      "metadata": {
        "id": "AaQNrKt0rKCT"
      },
      "source": [
        "con_mat=confusion_matrix(y_test,y_pred)\n",
        "con_mat"
      ],
      "execution_count": null,
      "outputs": []
    },
    {
      "cell_type": "code",
      "metadata": {
        "id": "Fs_8u6KJo7rT"
      },
      "source": [
        "acc_model1=accuracy_score(y_test,y_pred)\n",
        "acc_model1"
      ],
      "execution_count": null,
      "outputs": []
    },
    {
      "cell_type": "code",
      "metadata": {
        "id": "Z243ACc5qggC"
      },
      "source": [
        "precision_recall_fscore_support(y_test,y_pred)"
      ],
      "execution_count": null,
      "outputs": []
    },
    {
      "cell_type": "markdown",
      "metadata": {
        "id": "Dm10O7GRp1uJ"
      },
      "source": [
        "### Naive bayes"
      ]
    },
    {
      "cell_type": "code",
      "metadata": {
        "id": "5xNDSmBtp5so"
      },
      "source": [
        "from sklearn.naive_bayes import GaussianNB"
      ],
      "execution_count": null,
      "outputs": []
    },
    {
      "cell_type": "code",
      "metadata": {
        "id": "Ihl_i6pZ09xC"
      },
      "source": [
        "model2=GaussianNB()\n",
        "model2.fit(X_train,y_train)"
      ],
      "execution_count": null,
      "outputs": []
    },
    {
      "cell_type": "code",
      "metadata": {
        "id": "qqDQeNXK1Ho3"
      },
      "source": [
        "y_pred1 = model2.predict(X_test)"
      ],
      "execution_count": null,
      "outputs": []
    },
    {
      "cell_type": "code",
      "metadata": {
        "id": "QJdk_ZkB1adm"
      },
      "source": [
        "acc_model2=accuracy_score(y_test,y_pred1)"
      ],
      "execution_count": null,
      "outputs": []
    },
    {
      "cell_type": "code",
      "metadata": {
        "id": "0jjTc8K41jJN"
      },
      "source": [
        "acc_model2"
      ],
      "execution_count": null,
      "outputs": []
    },
    {
      "cell_type": "code",
      "metadata": {
        "id": "9CNc6Pff1l3T"
      },
      "source": [
        "confusion_matrix(y_test,y_pred1)"
      ],
      "execution_count": null,
      "outputs": []
    },
    {
      "cell_type": "code",
      "metadata": {
        "id": "OuWY-6UE16Vq"
      },
      "source": [
        ""
      ],
      "execution_count": null,
      "outputs": []
    },
    {
      "cell_type": "markdown",
      "metadata": {
        "id": "UBzlKhzu2WAH"
      },
      "source": [
        "### Decision Tree"
      ]
    },
    {
      "cell_type": "code",
      "metadata": {
        "id": "7SZ-G6Z-2btc"
      },
      "source": [
        "from sklearn.tree import DecisionTreeClassifier\n",
        "model3 = DecisionTreeClassifier()"
      ],
      "execution_count": null,
      "outputs": []
    },
    {
      "cell_type": "code",
      "metadata": {
        "id": "WojW72Cf20sD"
      },
      "source": [
        "model3.fit(X_train,y_train)"
      ],
      "execution_count": null,
      "outputs": []
    },
    {
      "cell_type": "code",
      "metadata": {
        "id": "QYbObjzY25fN"
      },
      "source": [
        "y_pred3 = model3.predict(X_test)"
      ],
      "execution_count": null,
      "outputs": []
    },
    {
      "cell_type": "code",
      "metadata": {
        "id": "MrSpM5s_3DaV"
      },
      "source": [
        "acc_model3=accuracy_score(y_test,y_pred3)\n",
        "acc_model3"
      ],
      "execution_count": null,
      "outputs": []
    },
    {
      "cell_type": "code",
      "metadata": {
        "id": "Iu8GRhly3PfQ"
      },
      "source": [
        "confusion_matrix(y_test,y_pred3)"
      ],
      "execution_count": null,
      "outputs": []
    },
    {
      "cell_type": "markdown",
      "metadata": {
        "id": "HnpU8dKM3fkI"
      },
      "source": [
        "### Random Forest"
      ]
    },
    {
      "cell_type": "code",
      "metadata": {
        "id": "Tto10IYr3lfx"
      },
      "source": [
        "from sklearn.ensemble import RandomForestClassifier\n",
        "model4 = RandomForestClassifier(n_estimators=500)"
      ],
      "execution_count": null,
      "outputs": []
    },
    {
      "cell_type": "code",
      "metadata": {
        "id": "5XGId9fp3vhW"
      },
      "source": [
        "model4.fit(X_train,y_train)"
      ],
      "execution_count": null,
      "outputs": []
    },
    {
      "cell_type": "code",
      "metadata": {
        "id": "TgzQq7dA3zn3"
      },
      "source": [
        "y_pred4=model4.predict(X_test)"
      ],
      "execution_count": null,
      "outputs": []
    },
    {
      "cell_type": "code",
      "metadata": {
        "id": "7CtgAvk74Maz"
      },
      "source": [
        "acc_model4=accuracy_score(y_test,y_pred4)"
      ],
      "execution_count": null,
      "outputs": []
    },
    {
      "cell_type": "code",
      "metadata": {
        "id": "7gPN8J1R4UHr"
      },
      "source": [
        "acc_model4"
      ],
      "execution_count": null,
      "outputs": []
    },
    {
      "cell_type": "markdown",
      "metadata": {
        "id": "g3IWNgl64V91"
      },
      "source": [
        "### Gradient Boosting Classifier"
      ]
    },
    {
      "cell_type": "code",
      "metadata": {
        "id": "kjCH_WVt6Xi1"
      },
      "source": [
        "from sklearn.ensemble import GradientBoostingClassifier\n",
        "model5 = GradientBoostingClassifier(n_estimators=500)"
      ],
      "execution_count": null,
      "outputs": []
    },
    {
      "cell_type": "code",
      "metadata": {
        "id": "KhMOGkmc6-q6"
      },
      "source": [
        "model5.fit(X_train,y_train)"
      ],
      "execution_count": null,
      "outputs": []
    },
    {
      "cell_type": "code",
      "metadata": {
        "id": "3pycJGf-7KwG"
      },
      "source": [
        "y_pred5=model5.predict(X_test)"
      ],
      "execution_count": null,
      "outputs": []
    },
    {
      "cell_type": "code",
      "metadata": {
        "id": "C6A4wlTD7Shl"
      },
      "source": [
        "acc_model5=accuracy_score(y_test,y_pred5)\n",
        "acc_model5"
      ],
      "execution_count": null,
      "outputs": []
    },
    {
      "cell_type": "markdown",
      "metadata": {
        "id": "ZHGBoQPW7bih"
      },
      "source": [
        "### Logistic regression with CV\n",
        "\n",
        "> Indented block\n",
        "\n"
      ]
    },
    {
      "cell_type": "code",
      "metadata": {
        "id": "VHCVW4qF8t42"
      },
      "source": [
        "from sklearn.linear_model import LogisticRegressionCV\n",
        "model6=LogisticRegressionCV()"
      ],
      "execution_count": null,
      "outputs": []
    },
    {
      "cell_type": "code",
      "metadata": {
        "id": "othJ7-7t9ChB"
      },
      "source": [
        "model6.fit(X_train,y_train)"
      ],
      "execution_count": null,
      "outputs": []
    },
    {
      "cell_type": "code",
      "metadata": {
        "id": "wk-FUZUQ9Kav"
      },
      "source": [
        "y_pred6=model5.predict(X_test)"
      ],
      "execution_count": null,
      "outputs": []
    },
    {
      "cell_type": "code",
      "metadata": {
        "id": "u7t9oMFn_uMt"
      },
      "source": [
        "acc_model6=accuracy_score(y_test,y_pred6)\n",
        "acc_model6"
      ],
      "execution_count": null,
      "outputs": []
    },
    {
      "cell_type": "markdown",
      "metadata": {
        "id": "_80t5W0wFCEk"
      },
      "source": [
        "### ANN for classification"
      ]
    },
    {
      "cell_type": "code",
      "metadata": {
        "id": "2ED_T-Eey-ud"
      },
      "source": [
        "import tensorflow\n",
        "import keras\n",
        "from tensorflow import keras\n",
        "from tensorflow.keras import layers\n",
        "#!pip install -U keras-tuner\n",
        "from kerastuner.tuners import RandomSearch"
      ],
      "execution_count": null,
      "outputs": []
    },
    {
      "cell_type": "code",
      "metadata": {
        "id": "BAf6ew6rzaug"
      },
      "source": [
        "def build_model(hp):\n",
        "    model = keras.Sequential()\n",
        "    for i in range(hp.Int('num_layers', 2, 20)):\n",
        "        model.add(layers.Dense(units=hp.Int('units_' + str(i),\n",
        "                                            min_value=32,\n",
        "                                            max_value=512,\n",
        "                                            step=32),\n",
        "                               activation='relu'))\n",
        "    model.add(layers.Dense(1, activation='sigmoid'))\n",
        "    model.compile(\n",
        "        optimizer=keras.optimizers.Adam(\n",
        "            hp.Choice('learning_rate', [1e-2, 1e-3, 1e-4])),\n",
        "        loss='binary_crossentropy',\n",
        "        metrics=['accuracy'])\n",
        "    return model"
      ],
      "execution_count": null,
      "outputs": []
    },
    {
      "cell_type": "code",
      "metadata": {
        "id": "n9AXKfDZ5QT3"
      },
      "source": [
        "from sklearn.preprocessing import StandardScaler\n",
        "sc=StandardScaler()"
      ],
      "execution_count": null,
      "outputs": []
    },
    {
      "cell_type": "code",
      "metadata": {
        "id": "PImPzl2N54jw"
      },
      "source": [
        "tuner = RandomSearch(\n",
        "    build_model,\n",
        "    objective='val_accuracy',\n",
        "    max_trials=2,\n",
        "    executions_per_trial=2,\n",
        "    directory='project1',\n",
        "    project_name='Cardiovascular disease classification')"
      ],
      "execution_count": null,
      "outputs": []
    },
    {
      "cell_type": "code",
      "metadata": {
        "id": "0ne3u2yOc2as"
      },
      "source": [
        "tuner.search(X_train, y_train,\n",
        "             epochs=2,\n",
        "             validation_data=(X_test, y_test))"
      ],
      "execution_count": null,
      "outputs": []
    },
    {
      "cell_type": "code",
      "metadata": {
        "id": "QC-pohO3d-1Q"
      },
      "source": [
        ""
      ],
      "execution_count": null,
      "outputs": []
    }
  ]
}